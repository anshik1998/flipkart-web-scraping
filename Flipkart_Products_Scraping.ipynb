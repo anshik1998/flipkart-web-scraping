{
 "cells": [
  {
   "cell_type": "markdown",
   "metadata": {},
   "source": [
    "# Flipkart Products Web Scraping using BeautifulSoup"
   ]
  },
  {
   "cell_type": "markdown",
   "metadata": {},
   "source": [
    "This project scraps Flipkart's product search page and obtain its title, price, features and rating."
   ]
  },
  {
   "cell_type": "markdown",
   "metadata": {},
   "source": [
    "**Libraries Used:** requests, BeautifulSoup, pandas, time"
   ]
  },
  {
   "cell_type": "code",
   "execution_count": 1,
   "metadata": {},
   "outputs": [
    {
     "name": "stdout",
     "output_type": "stream",
     "text": [
      "226 number of pages found\n"
     ]
    }
   ],
   "source": [
    "import requests\n",
    "from bs4 import BeautifulSoup\n",
    "import pandas as pd\n",
    "import time\n",
    "\n",
    "li = []\n",
    "base_url = \"https://www.flipkart.com/search?q=Smartphones&otracker=search&otracker1=search&marketplace=FLIPKART&as-show=on&as=off&page=\"\n",
    "r = requests.get(base_url + str(1))\n",
    "c = r.content\n",
    "soup = BeautifulSoup(c, \"html.parser\")\n",
    "\n",
    "results_count = soup.find(\"span\",{\"class\":\"_2yAnYN\"}).text.split()\n",
    "result_pages = int((int(results_count[5].replace(\",\", \"\")) / 24)) + 1\n",
    "print(f\"{result_pages} number of pages found\")"
   ]
  },
  {
   "cell_type": "code",
   "execution_count": 2,
   "metadata": {},
   "outputs": [],
   "source": [
    "result_pages = 10\n",
    "for page in range(1, result_pages):\n",
    "    r = requests.get(base_url + str(page))\n",
    "    c = r.content\n",
    "    soup = BeautifulSoup(c, \"html.parser\")\n",
    "    title = soup.find_all(\"div\",{\"class\":\"_3wU53n\"})\n",
    "    price = soup.find_all(\"div\",{\"class\":\"_1vC4OE _2rQ-NK\"})\n",
    "    features = soup.find_all(\"div\",{\"class\":\"_3ULzGw\"})\n",
    "    ratings = soup.find_all(\"div\",{\"class\":\"hGSR34\"})\n",
    "\n",
    "    for item, value, feature, rating in zip(title, price, features, ratings):\n",
    "        di = {}\n",
    "        di[\"Product Title\"] = item.text\n",
    "        di[\"Price\"] = value.text\n",
    "        di[\"Feature\"] = feature.text\n",
    "        di[\"Ratings\"] = rating.text\n",
    "        li.append(di)\n",
    "    time.sleep(5)"
   ]
  },
  {
   "cell_type": "code",
   "execution_count": 3,
   "metadata": {},
   "outputs": [],
   "source": [
    "df = pd.DataFrame(li)"
   ]
  },
  {
   "cell_type": "code",
   "execution_count": 4,
   "metadata": {},
   "outputs": [],
   "source": [
    "df.to_csv(\"Output.csv\")"
   ]
  }
 ],
 "metadata": {
  "kernelspec": {
   "display_name": "Python 3",
   "language": "python",
   "name": "python3"
  },
  "language_info": {
   "codemirror_mode": {
    "name": "ipython",
    "version": 3
   },
   "file_extension": ".py",
   "mimetype": "text/x-python",
   "name": "python",
   "nbconvert_exporter": "python",
   "pygments_lexer": "ipython3",
   "version": "3.6.4"
  }
 },
 "nbformat": 4,
 "nbformat_minor": 4
}
